{
 "cells": [
  {
   "cell_type": "markdown",
   "metadata": {},
   "source": [
    "# Anna KaRNNa\n",
    "\n",
    "In this notebook, we'll build a character-wise RNN trained on Anna Karenina, one of my all-time favorite books. It'll be able to generate new text based on the text from the book.\n",
    "\n",
    "This network is based off of Andrej Karpathy's [post on RNNs](http://karpathy.github.io/2015/05/21/rnn-effectiveness/) and [implementation in Torch](https://github.com/karpathy/char-rnn). Also, some information [here at r2rt](http://r2rt.com/recurrent-neural-networks-in-tensorflow-ii.html) and from [Sherjil Ozair](https://github.com/sherjilozair/char-rnn-tensorflow) on GitHub. Below is the general architecture of the character-wise RNN.\n",
    "\n",
    "<img src=\"assets/charseq.jpeg\" width=\"500\">"
   ]
  },
  {
   "cell_type": "code",
   "execution_count": 1,
   "metadata": {
    "collapsed": true
   },
   "outputs": [],
   "source": [
    "import time\n",
    "from collections import namedtuple\n",
    "\n",
    "import numpy as np\n",
    "import tensorflow as tf"
   ]
  },
  {
   "cell_type": "markdown",
   "metadata": {},
   "source": [
    "First we'll load the text file and convert it into integers for our network to use. Here I'm creating a couple dictionaries to convert the characters to and from integers. Encoding the characters as integers makes it easier to use as input in the network."
   ]
  },
  {
   "cell_type": "code",
   "execution_count": 2,
   "metadata": {
    "collapsed": true
   },
   "outputs": [],
   "source": [
    "with open('anna.txt', 'r') as f: #텍스트 파일을 불러온다.\n",
    "    text=f.read() \n",
    "vocab = set(text) #Set 생성. 순서없고 중복 허용하지 않는다.\n",
    "#string을 set에 넣으면 각각의 character로 저장된다.\n",
    "vocab_to_int = {c: i for i, c in enumerate(vocab)} #enum으로 인덱스와 값을 각각 딕셔너리에 저장. 값: 인덱스 딕셔너리\n",
    "int_to_vocab = dict(enumerate(vocab)) #위와 반대로 인덱스: 값 딕셔너리\n",
    "encoded = np.array([vocab_to_int[c] for c in text], dtype=np.int32) \n",
    "#text 반복문을 돌면서 각 character값을 vocab_to_int에 지정된 숫자로 변환해서 Array에 저장한다."
   ]
  },
  {
   "cell_type": "markdown",
   "metadata": {},
   "source": [
    "Let's check out the first 100 characters, make sure everything is peachy. According to the [American Book Review](http://americanbookreview.org/100bestlines.asp), this is the 6th best first line of a book ever."
   ]
  },
  {
   "cell_type": "code",
   "execution_count": 3,
   "metadata": {},
   "outputs": [
    {
     "data": {
      "text/plain": [
       "'Chapter 1\\n\\n\\nHappy families are all alike; every unhappy family is unhappy in its own\\nway.\\n\\nEverythin'"
      ]
     },
     "execution_count": 3,
     "metadata": {},
     "output_type": "execute_result"
    }
   ],
   "source": [
    "text[:100] #text"
   ]
  },
  {
   "cell_type": "markdown",
   "metadata": {},
   "source": [
    "And we can see the characters encoded as integers."
   ]
  },
  {
   "cell_type": "code",
   "execution_count": 4,
   "metadata": {},
   "outputs": [
    {
     "data": {
      "text/plain": [
       "array([44,  4, 20, 77, 41, 72, 25, 14, 19,  6,  6,  6,  1, 20, 77, 77, 75,\n",
       "       14, 18, 20,  0, 81, 46, 81, 72, 65, 14, 20, 25, 72, 14, 20, 46, 46,\n",
       "       14, 20, 46, 81, 78, 72, 21, 14, 72, 69, 72, 25, 75, 14, 67, 16,  4,\n",
       "       20, 77, 77, 75, 14, 18, 20,  0, 81, 46, 75, 14, 81, 65, 14, 67, 16,\n",
       "        4, 20, 77, 77, 75, 14, 81, 16, 14, 81, 41, 65, 14, 73, 49, 16,  6,\n",
       "       49, 20, 75, 45,  6,  6, 56, 69, 72, 25, 75, 41,  4, 81, 16], dtype=int32)"
      ]
     },
     "execution_count": 4,
     "metadata": {},
     "output_type": "execute_result"
    }
   ],
   "source": [
    "encoded[:100]"
   ]
  },
  {
   "cell_type": "markdown",
   "metadata": {},
   "source": [
    "Since the network is working with individual characters, it's similar to a classification problem in which we are trying to predict the next character from the previous text.  Here's how many 'classes' our network has to pick from."
   ]
  },
  {
   "cell_type": "code",
   "execution_count": 5,
   "metadata": {},
   "outputs": [
    {
     "data": {
      "text/plain": [
       "83"
      ]
     },
     "execution_count": 5,
     "metadata": {},
     "output_type": "execute_result"
    }
   ],
   "source": [
    "len(vocab)"
   ]
  },
  {
   "cell_type": "markdown",
   "metadata": {},
   "source": [
    "## Making training mini-batches\n",
    "\n",
    "Here is where we'll make our mini-batches for training. Remember that we want our batches to be multiple sequences of some desired number of sequence steps. Considering a simple example, our batches would look like this:\n",
    "\n",
    "<img src=\"assets/sequence_batching@1x.png\" width=500px>\n",
    "\n",
    "\n",
    "<br>\n",
    "We have our text encoded as integers as one long array in `encoded`. Let's create a function that will give us an iterator for our batches. I like using [generator functions](https://jeffknupp.com/blog/2013/04/07/improve-your-python-yield-and-generators-explained/) to do this. Then we can pass `encoded` into this function and get our batch generator.\n",
    "\n",
    "The first thing we need to do is discard some of the text so we only have completely full batches. Each batch contains $N \\times M$ characters, where $N$ is the batch size (the number of sequences) and $M$ is the number of steps. Then, to get the number of batches we can make from some array `arr`, you divide the length of `arr` by the batch size. Once you know the number of batches and the batch size, you can get the total number of characters to keep.\n",
    "\n",
    "After that, we need to split `arr` into $N$ sequences. You can do this using `arr.reshape(size)` where `size` is a tuple containing the dimensions sizes of the reshaped array. We know we want $N$ sequences (`n_seqs` below), let's make that the size of the first dimension. For the second dimension, you can use `-1` as a placeholder in the size, it'll fill up the array with the appropriate data for you. After this, you should have an array that is $N \\times (M * K)$ where $K$ is the number of batches.\n",
    "\n",
    "Now that we have this array, we can iterate through it to get our batches. The idea is each batch is a $N \\times M$ window on the array. For each subsequent batch, the window moves over by `n_steps`. We also want to create both the input and target arrays. Remember that the targets are the inputs shifted over one character. You'll usually see the first input character used as the last target character, so something like this:\n",
    "```python\n",
    "y[:, :-1], y[:, -1] = x[:, 1:], x[:, 0]\n",
    "```\n",
    "where `x` is the input batch and `y` is the target batch.\n",
    "\n",
    "The way I like to do this window is use `range` to take steps of size `n_steps` from $0$ to `arr.shape[1]`, the total number of steps in each sequence. That way, the integers you get from `range` always point to the start of a batch, and each window is `n_steps` wide.\n",
    "\n",
    "> **Exercise:** Write the code for creating batches in the function below. The exercises in this notebook _will not be easy_. I've provided a notebook with solutions alongside this notebook. If you get stuck, checkout the solutions. The most important thing is that you don't copy and paste the code into here, **type out the solution code yourself.**"
   ]
  },
  {
   "cell_type": "code",
   "execution_count": 6,
   "metadata": {
    "collapsed": true
   },
   "outputs": [],
   "source": [
    "def get_batches(arr, n_seqs, n_steps):\n",
    "    '''Create a generator that returns batches of size\n",
    "       n_seqs x n_steps from arr.\n",
    "       \n",
    "       Arguments\n",
    "       ---------\n",
    "       arr: Array you want to make batches from\n",
    "       n_seqs: Batch size, the number of sequences per batch\n",
    "       n_steps: Number of sequence steps per batch\n",
    "    '''\n",
    "    # Get the batch size and number of batches we can make\n",
    "    batch_size = n_seqs * n_steps #한 배치의 시퀀스 수. 배치 사이즈(행) * 한 배치의 시퀀스 스텝 수. 배치 시퀀스(열). 한 배치의 요소 수\n",
    "    n_batches = len(arr) // batch_size #//는 파이썬의 정수 나누기 연산자. 몫만 반환한다. 몇 개의 배치가 필요한지 계산\n",
    "    #위 그림의 예에서는 12 // 6 = 2\n",
    "    \n",
    "    # Keep only enough characters to make full batches\n",
    "    arr = arr[:n_batches * batch_size] #배치 사이즈가 제대로 나눠 떨어지는 배열을 다시 구한다. (나머지를 버린다.)\n",
    "    \n",
    "    # Reshape into n_seqs rows\n",
    "    arr = arr.reshape((n_seqs, -1)) #배치 사이즈에 맞게 배열을 reshape. n_seqs만큼의 행을 가지는 행렬로 재정렬\n",
    "    #값을 -1로 주면 배열의 길이와 나머지 입력된 차원에서 형태를 유추해 reshape한다.\n",
    "    #np.reshape((x, y)) 괄호 두개\n",
    "    \n",
    "    for n in range(0, arr.shape[1], n_steps): #0에서 arr.shape[1]-1까지, n_steps씩(Stride) 이동\n",
    "        # The features\n",
    "        x = arr[:, n:n+n_steps] #행은 전부, 열은 n에서 n+n_steps-1까지의 배열만 가져온다.\n",
    "        # The targets, shifted by one\n",
    "        y = np.zeros_like(x) #0으로 가득찬 x와 같은 shape의 배열 생성.\n",
    "        y[:, :-1], y[:, -1] = x[:, 1:], x[:, 0] #x가 인풋, y가 정답 레이블\n",
    "        #y[행 전부, 마지막 열 제외], y[행 전부, 마지막 열] = x[행 전부, 처음 열 제외], x[행 전부, 처음 열]\n",
    "        #y는 x의 행요소가 한 칸씩 앞으로 밀린 행렬(x의 첫 요소는 y의 마지막으로)\n",
    "        #첫 번째 입력문자가 마지막 대상 문자로 사용되므로 정답 레이블의 값은 다음 인풋이 된다. \n",
    "        yield x, y #yield 키워드를 사용하면 반복문 중간에서 빠져나올 수 있다. 그 후 next()를 써서 다음 iterator로 넘어갈 수 있다."
   ]
  },
  {
   "cell_type": "markdown",
   "metadata": {},
   "source": [
    "Now I'll make my data sets and we can check out what's going on here. Here I'm going to use a batch size of 10 and 50 sequence steps."
   ]
  },
  {
   "cell_type": "code",
   "execution_count": 7,
   "metadata": {
    "collapsed": true
   },
   "outputs": [],
   "source": [
    "batches = get_batches(encoded, 10, 50) #배치 사이즈(행) 10, 배치 시퀀스(열) 50\n",
    "x, y = next(batches) #next()를 통해 yield된 iterator를 하나 뒤로 넘긴다. 처음 next()를 하면 반복문의 첫 iterator가 실행된다."
   ]
  },
  {
   "cell_type": "code",
   "execution_count": 8,
   "metadata": {},
   "outputs": [
    {
     "name": "stdout",
     "output_type": "stream",
     "text": [
      "x\n",
      " [[44  4 20 77 41 72 25 14 19  6]\n",
      " [14 20  0 14 16 73 41 14 82 73]\n",
      " [69 81 16 45  6  6 28 76 72 65]\n",
      " [16 14 50 67 25 81 16 82 14  4]\n",
      " [14 81 41 14 81 65 68 14 65 81]\n",
      " [14 66 41 14 49 20 65  6 73 16]\n",
      " [ 4 72 16 14  2 73  0 72 14 18]\n",
      " [21 14 34 67 41 14 16 73 49 14]\n",
      " [41 14 81 65 16  9 41 45 14 24]\n",
      " [14 65 20 81 50 14 41 73 14  4]]\n",
      "\n",
      "y\n",
      " [[ 4 20 77 41 72 25 14 19  6  6]\n",
      " [20  0 14 16 73 41 14 82 73 81]\n",
      " [81 16 45  6  6 28 76 72 65 68]\n",
      " [14 50 67 25 81 16 82 14  4 81]\n",
      " [81 41 14 81 65 68 14 65 81 25]\n",
      " [66 41 14 49 20 65  6 73 16 46]\n",
      " [72 16 14  2 73  0 72 14 18 73]\n",
      " [14 34 67 41 14 16 73 49 14 65]\n",
      " [14 81 65 16  9 41 45 14 24  4]\n",
      " [65 20 81 50 14 41 73 14  4 72]]\n"
     ]
    }
   ],
   "source": [
    "print('x\\n', x[:10, :10])\n",
    "print('\\ny\\n', y[:10, :10])"
   ]
  },
  {
   "cell_type": "markdown",
   "metadata": {},
   "source": [
    "If you implemented `get_batches` correctly, the above output should look something like \n",
    "```\n",
    "x\n",
    " [[55 63 69 22  6 76 45  5 16 35]\n",
    " [ 5 69  1  5 12 52  6  5 56 52]\n",
    " [48 29 12 61 35 35  8 64 76 78]\n",
    " [12  5 24 39 45 29 12 56  5 63]\n",
    " [ 5 29  6  5 29 78 28  5 78 29]\n",
    " [ 5 13  6  5 36 69 78 35 52 12]\n",
    " [63 76 12  5 18 52  1 76  5 58]\n",
    " [34  5 73 39  6  5 12 52 36  5]\n",
    " [ 6  5 29 78 12 79  6 61  5 59]\n",
    " [ 5 78 69 29 24  5  6 52  5 63]]\n",
    "\n",
    "y\n",
    " [[63 69 22  6 76 45  5 16 35 35]\n",
    " [69  1  5 12 52  6  5 56 52 29]\n",
    " [29 12 61 35 35  8 64 76 78 28]\n",
    " [ 5 24 39 45 29 12 56  5 63 29]\n",
    " [29  6  5 29 78 28  5 78 29 45]\n",
    " [13  6  5 36 69 78 35 52 12 43]\n",
    " [76 12  5 18 52  1 76  5 58 52]\n",
    " [ 5 73 39  6  5 12 52 36  5 78]\n",
    " [ 5 29 78 12 79  6 61  5 59 63]\n",
    " [78 69 29 24  5  6 52  5 63 76]]\n",
    " ```\n",
    " although the exact numbers will be different. Check to make sure the data is shifted over one step for `y`."
   ]
  },
  {
   "cell_type": "markdown",
   "metadata": {},
   "source": [
    "## Building the model\n",
    "\n",
    "Below is where you'll build the network. We'll break it up into parts so it's easier to reason about each bit. Then we can connect them up into the whole network.\n",
    "\n",
    "<img src=\"assets/charRNN.png\" width=500px>\n",
    "\n",
    "\n",
    "### Inputs\n",
    "\n",
    "First off we'll create our input placeholders. As usual we need placeholders for the training data and the targets. We'll also create a placeholder for dropout layers called `keep_prob`. This will be a scalar, that is a 0-D tensor. To make a scalar, you create a placeholder without giving it a size.\n",
    "\n",
    "> **Exercise:** Create the input placeholders in the function below."
   ]
  },
  {
   "cell_type": "code",
   "execution_count": 9,
   "metadata": {
    "collapsed": true
   },
   "outputs": [],
   "source": [
    "def build_inputs(batch_size, num_steps):\n",
    "    ''' Define placeholders for inputs, targets, and dropout \n",
    "    \n",
    "        Arguments\n",
    "        ---------\n",
    "        batch_size: Batch size, number of sequences per batch\n",
    "        num_steps: Number of sequence steps in a batch\n",
    "        \n",
    "    '''\n",
    "    # Declare placeholders we'll feed into the graph\n",
    "    inputs = tf.placeholder(tf.int32, [batch_size, num_steps], name=\"inputs\") #inputs. (batch_size x num_steps)\n",
    "    targets = tf.placeholder(tf.int32, [batch_size, num_steps], name=\"targets\") #targets. (batch_size x num_steps)\n",
    "    \n",
    "    # Keep probability placeholder for drop out layers\n",
    "    keep_prob = tf.placeholder(tf.float32, name=\"keep_prob\") #keep_prob. Dropout 적용 확률\n",
    "    \n",
    "    return inputs, targets, keep_prob"
   ]
  },
  {
   "cell_type": "markdown",
   "metadata": {},
   "source": [
    "### LSTM Cell\n",
    "\n",
    "Here we will create the LSTM cell we'll use in the hidden layer. We'll use this cell as a building block for the RNN. So we aren't actually defining the RNN here, just the type of cell we'll use in the hidden layer.\n",
    "\n",
    "We first create a basic LSTM cell with\n",
    "\n",
    "```python\n",
    "lstm = tf.contrib.rnn.BasicLSTMCell(num_units)\n",
    "```\n",
    "\n",
    "where `num_units` is the number of units in the hidden layers in the cell. Then we can add dropout by wrapping it with \n",
    "\n",
    "```python\n",
    "tf.contrib.rnn.DropoutWrapper(lstm, output_keep_prob=keep_prob)\n",
    "```\n",
    "You pass in a cell and it will automatically add dropout to the inputs or outputs. Finally, we can stack up the LSTM cells into layers with [`tf.contrib.rnn.MultiRNNCell`](https://www.tensorflow.org/versions/r1.0/api_docs/python/tf/contrib/rnn/MultiRNNCell). With this, you pass in a list of cells and it will send the output of one cell into the next cell. For example,\n",
    "\n",
    "```python\n",
    "tf.contrib.rnn.MultiRNNCell([cell]*num_layers)\n",
    "```\n",
    "\n",
    "This might look a little weird if you know Python well because this will create a list of the same `cell` object. However, TensorFlow will create different weight matrices for all `cell` objects. Even though this is actually multiple LSTM cells stacked on each other, you can treat the multiple layers as one cell.\n",
    "\n",
    "We also need to create an initial cell state of all zeros. This can be done like so\n",
    "\n",
    "```python\n",
    "initial_state = cell.zero_state(batch_size, tf.float32)\n",
    "```\n",
    "\n",
    "> **Exercise:** Below, implement the `build_lstm` function to create these LSTM cells and the initial state."
   ]
  },
  {
   "cell_type": "code",
   "execution_count": 10,
   "metadata": {
    "collapsed": true
   },
   "outputs": [],
   "source": [
    "def build_lstm(lstm_size, num_layers, batch_size, keep_prob):\n",
    "    ''' Build LSTM cell.\n",
    "    \n",
    "        Arguments\n",
    "        ---------\n",
    "        keep_prob: Scalar tensor (tf.placeholder) for the dropout keep probability\n",
    "        lstm_size: Size of the hidden layers in the LSTM cells\n",
    "        num_layers: Number of LSTM layers\n",
    "        batch_size: Batch size\n",
    "\n",
    "    '''\n",
    "    ### Build the LSTM Cell\n",
    "    # Use a basic LSTM cell\n",
    "    lstm = tf.contrib.rnn.BasicLSTMCell(lstm_size) #BasicLSTMCell 생성. 결과값(출력)의 사이즈. LSTM cell의 hidden layer 수\n",
    "    #BasicLSTMCell외의 다른 모델로 바꾸더라도 이 부분만 수정하면 된다.\n",
    "    \n",
    "    # Add dropout to the cell outputs\n",
    "    drop = tf.contrib.rnn.DropoutWrapper(lstm, output_keep_prob=keep_prob) #Dropout\n",
    "    \n",
    "    # Stack up multiple LSTM layers, for deep learning\n",
    "    cell = tf.contrib.rnn.MultiRNNCell([drop] * num_layers) #위에서 만들었던 기본 LSTM 셀을 여러개 연결한다. LSTM cell의 수(총 출력되어 나오는 결과).\n",
    "    #동일한 셀객체를 생성하지만 모든 셀 객체에 대해 서로 다른 가중치 행렬을 만든다.\n",
    "    initial_state = cell.zero_state(batch_size, tf.float32) #초기화\n",
    "    \n",
    "    return cell, initial_state"
   ]
  },
  {
   "cell_type": "markdown",
   "metadata": {},
   "source": [
    "### RNN Output\n",
    "\n",
    "Here we'll create the output layer. We need to connect the output of the RNN cells to a full connected layer with a softmax output. The softmax output gives us a probability distribution we can use to predict the next character, so we want this layer to have size $C$, the number of classes/characters we have in our text.\n",
    "\n",
    "If our input has batch size $N$, number of steps $M$, and the hidden layer has $L$ hidden units, then the output is a 3D tensor with size $N \\times M \\times L$. The output of each LSTM cell has size $L$, we have $M$ of them, one for each sequence step, and we have $N$ sequences. So the total size is $N \\times M \\times L$. \n",
    "\n",
    "We are using the same fully connected layer, the same weights, for each of the outputs. Then, to make things easier, we should reshape the outputs into a 2D tensor with shape $(M * N) \\times L$. That is, one row for each sequence and step, where the values of each row are the output from the LSTM cells. We get the LSTM output as a list, `lstm_output`. First we need to concatenate this whole list into one array with [`tf.concat`](https://www.tensorflow.org/api_docs/python/tf/concat). Then, reshape it (with `tf.reshape`) to size $(M * N) \\times L$.\n",
    "\n",
    "One we have the outputs reshaped, we can do the matrix multiplication with the weights. We need to wrap the weight and bias variables in a variable scope with `tf.variable_scope(scope_name)` because there are weights being created in the LSTM cells. TensorFlow will throw an error if the weights created here have the same names as the weights created in the LSTM cells, which they will be default. To avoid this, we wrap the variables in a variable scope so we can give them unique names.\n",
    "\n",
    "> **Exercise:** Implement the output layer in the function below."
   ]
  },
  {
   "cell_type": "code",
   "execution_count": 11,
   "metadata": {
    "collapsed": true
   },
   "outputs": [],
   "source": [
    "def build_output(lstm_output, in_size, out_size):\n",
    "    ''' Build a softmax layer, return the softmax output and logits.\n",
    "    \n",
    "        Arguments\n",
    "        ---------\n",
    "        \n",
    "        lstm_output: List of output tensors from the LSTM layer\n",
    "        in_size: Size of the input tensor, for example, size of the LSTM cells\n",
    "        out_size: Size of this softmax layer\n",
    "    \n",
    "    '''\n",
    "\n",
    "    # Reshape output so it's a bunch of rows, one row for each step for each sequence.\n",
    "    # Concatenate lstm_output over axis 1 (the columns)\n",
    "    seq_output = tf.concat(lstm_output, axis=1) #축에 맞춰서 텐서들을 연결한다.\n",
    "    # Reshape seq_output to a 2D tensor with lstm_size columns\n",
    "    x = tf.reshape(seq_output, [-1, in_size]) #input에 맞춰 reshape\n",
    "    \n",
    "    # Connect the RNN outputs to a softmax layer\n",
    "    with tf.variable_scope('softmax'): #공유 변수\n",
    "        # Create the weight and bias variables here\n",
    "        softmax_w = tf.Variable(tf.truncated_normal((in_size, out_size), stddev=0.1))\n",
    "        #가중치는 input, output의 행렬\n",
    "        softmax_b = tf.Variable(tf.zeros(out_size))\n",
    "        #편향은 output과 같다.\n",
    "    \n",
    "    # Since output is a bunch of rows of RNN cell outputs, logits will be a bunch\n",
    "    # of rows of logit outputs, one for each step and sequence\n",
    "    logits = tf.matmul(x, softmax_w) + softmax_b\n",
    "    \n",
    "    # Use softmax to get the probabilities for predicted characters\n",
    "    out = tf.nn.softmax(logits, name='predictions') #활성함수는 소프트맥스\n",
    "    \n",
    "    return out, logits"
   ]
  },
  {
   "cell_type": "markdown",
   "metadata": {},
   "source": [
    "### Training loss\n",
    "\n",
    "Next up is the training loss. We get the logits and targets and calculate the softmax cross-entropy loss. First we need to one-hot encode the targets, we're getting them as encoded characters. Then, reshape the one-hot targets so it's a 2D tensor with size $(M*N) \\times C$ where $C$ is the number of classes/characters we have. Remember that we reshaped the LSTM outputs and ran them through a fully connected layer with $C$ units. So our logits will also have size $(M*N) \\times C$.\n",
    "\n",
    "Then we run the logits and targets through `tf.nn.softmax_cross_entropy_with_logits` and find the mean to get the loss.\n",
    "\n",
    ">**Exercise:** Implement the loss calculation in the function below."
   ]
  },
  {
   "cell_type": "code",
   "execution_count": 22,
   "metadata": {
    "collapsed": true
   },
   "outputs": [],
   "source": [
    "def build_loss(logits, targets, lstm_size, num_classes):\n",
    "    ''' Calculate the loss from the logits and the targets.\n",
    "    \n",
    "        Arguments\n",
    "        ---------\n",
    "        logits: Logits from final fully connected layer\n",
    "        targets: Targets for supervised learning\n",
    "        lstm_size: Number of LSTM hidden units\n",
    "        num_classes: Number of classes in targets\n",
    "        \n",
    "    '''\n",
    "    \n",
    "    # One-hot encode targets and reshape to match logits, one row per sequence per step\n",
    "    y_one_hot = tf.one_hot(targets, num_classes) #원-핫 인코딩. targets을 num_classes에 맞춰서.\n",
    "    #항상 one_hot 이후 생성된 값의 차원에 주의\n",
    "    y_reshaped = tf.reshape(y_one_hot, logits.get_shape()) #y_one_hot을 logits의 shape로 reshape\n",
    "    #one_hot encoding이후 차원이 하나 늘어나므로 새로 reshape해줘야 원하는 형태로 사용할 수 있다.\n",
    "    #TF 1.0 이후 shape 대신 get_shape()\n",
    "    \n",
    "    # Softmax cross entropy loss\n",
    "    loss = tf.nn.softmax_cross_entropy_with_logits(logits=logits, labels=y_reshaped) #로짓, 정답레이블로 크로스엔트로피 계산.\n",
    "    loss = tf.reduce_mean(loss)\n",
    "    \n",
    "    return loss"
   ]
  },
  {
   "cell_type": "markdown",
   "metadata": {},
   "source": [
    "### Optimizer\n",
    "\n",
    "Here we build the optimizer. Normal RNNs have have issues gradients exploding and disappearing. LSTMs fix the disappearance problem, but the gradients can still grow without bound. To fix this, we can clip the gradients above some threshold. That is, if a gradient is larger than that threshold, we set it to the threshold. This will ensure the gradients never grow overly large. Then we use an AdamOptimizer for the learning step."
   ]
  },
  {
   "cell_type": "code",
   "execution_count": 23,
   "metadata": {
    "collapsed": true
   },
   "outputs": [],
   "source": [
    "def build_optimizer(loss, learning_rate, grad_clip):\n",
    "    ''' Build optmizer for training, using gradient clipping.\n",
    "    \n",
    "        Arguments:\n",
    "        loss: Network loss\n",
    "        learning_rate: Learning rate for optimizer\n",
    "    \n",
    "    '''\n",
    "    \n",
    "    # Optimizer for training, using gradient clipping to control exploding gradients\n",
    "    tvars = tf.trainable_variables()\n",
    "    grads, _ = tf.clip_by_global_norm(tf.gradients(loss, tvars), grad_clip)\n",
    "    train_op = tf.train.AdamOptimizer(learning_rate)\n",
    "    optimizer = train_op.apply_gradients(zip(grads, tvars))\n",
    "    \n",
    "    return optimizer"
   ]
  },
  {
   "cell_type": "markdown",
   "metadata": {},
   "source": [
    "### Build the network\n",
    "\n",
    "Now we can put all the pieces together and build a class for the network. To actually run data through the LSTM cells, we will use [`tf.nn.dynamic_rnn`](https://www.tensorflow.org/versions/r1.0/api_docs/python/tf/nn/dynamic_rnn). This function will pass the hidden and cell states across LSTM cells appropriately for us. It returns the outputs for each LSTM cell at each step for each sequence in the mini-batch. It also gives us the final LSTM state. We want to save this state as `final_state` so we can pass it to the first LSTM cell in the the next mini-batch run. For `tf.nn.dynamic_rnn`, we pass in the cell and initial state we get from `build_lstm`, as well as our input sequences. Also, we need to one-hot encode the inputs before going into the RNN. \n",
    "\n",
    "> **Exercise:** Use the functions you've implemented previously and `tf.nn.dynamic_rnn` to build the network."
   ]
  },
  {
   "cell_type": "code",
   "execution_count": 24,
   "metadata": {
    "collapsed": true
   },
   "outputs": [],
   "source": [
    "class CharRNN:\n",
    "    \n",
    "    def __init__(self, num_classes, batch_size=64, num_steps=50, \n",
    "                       lstm_size=128, num_layers=2, learning_rate=0.001, \n",
    "                       grad_clip=5, sampling=False):\n",
    "    \n",
    "        # When we're using this network for sampling later, we'll be passing in\n",
    "        # one character at a time, so providing an option for that\n",
    "        if sampling == True:\n",
    "            batch_size, num_steps = 1, 1\n",
    "        else:\n",
    "            batch_size, num_steps = batch_size, num_steps\n",
    "\n",
    "        tf.reset_default_graph()\n",
    "        \n",
    "        # Build the input placeholder tensors\n",
    "        self.inputs, self.targets, self.keep_prob = build_inputs(batch_size, num_steps)\n",
    "\n",
    "        # Build the LSTM cell\n",
    "        cell, self.initial_state = build_lstm(lstm_size, num_layers, batch_size, self.keep_prob)\n",
    "\n",
    "        ### Run the data through the RNN layers\n",
    "        # First, one-hot encode the input tokens\n",
    "        x_one_hot = tf.one_hot(self.inputs, num_classes)\n",
    "        \n",
    "        # Run each sequence step through the RNN and collect the outputs\n",
    "        outputs, state = tf.nn.dynamic_rnn(cell, x_one_hot, initial_state=self.initial_state)\n",
    "        self.final_state = state\n",
    "        \n",
    "        # Get softmax predictions and logits\n",
    "        self.prediction, self.logits = build_output(outputs, lstm_size, num_classes)\n",
    "        \n",
    "        # Loss and optimizer (with gradient clipping)\n",
    "        self.loss = build_loss(self.logits, self.targets, lstm_size, num_classes)\n",
    "        self.optimizer = build_optimizer(self.loss, learning_rate, grad_clip)"
   ]
  },
  {
   "cell_type": "markdown",
   "metadata": {},
   "source": [
    "## Hyperparameters\n",
    "\n",
    "Here are the hyperparameters for the network.\n",
    "\n",
    "* `batch_size` - Number of sequences running through the network in one pass.\n",
    "* `num_steps` - Number of characters in the sequence the network is trained on. Larger is better typically, the network will learn more long range dependencies. But it takes longer to train. 100 is typically a good number here.\n",
    "* `lstm_size` - The number of units in the hidden layers.\n",
    "* `num_layers` - Number of hidden LSTM layers to use\n",
    "* `learning_rate` - Learning rate for training\n",
    "* `keep_prob` - The dropout keep probability when training. If you're network is overfitting, try decreasing this.\n",
    "\n",
    "Here's some good advice from Andrej Karpathy on training the network. I'm going to copy it in here for your benefit, but also link to [where it originally came from](https://github.com/karpathy/char-rnn#tips-and-tricks).\n",
    "\n",
    "> ## Tips and Tricks\n",
    "\n",
    ">### Monitoring Validation Loss vs. Training Loss\n",
    ">If you're somewhat new to Machine Learning or Neural Networks it can take a bit of expertise to get good models. The most important quantity to keep track of is the difference between your training loss (printed during training) and the validation loss (printed once in a while when the RNN is run on the validation data (by default every 1000 iterations)). In particular:\n",
    "\n",
    "> - If your training loss is much lower than validation loss then this means the network might be **overfitting**. Solutions to this are to decrease your network size, or to increase dropout. For example you could try dropout of 0.5 and so on.\n",
    "> - If your training/validation loss are about equal then your model is **underfitting**. Increase the size of your model (either number of layers or the raw number of neurons per layer)\n",
    "\n",
    "> ### Approximate number of parameters\n",
    "\n",
    "> The two most important parameters that control the model are `lstm_size` and `num_layers`. I would advise that you always use `num_layers` of either 2/3. The `lstm_size` can be adjusted based on how much data you have. The two important quantities to keep track of here are:\n",
    "\n",
    "> - The number of parameters in your model. This is printed when you start training.\n",
    "> - The size of your dataset. 1MB file is approximately 1 million characters.\n",
    "\n",
    ">These two should be about the same order of magnitude. It's a little tricky to tell. Here are some examples:\n",
    "\n",
    "> - I have a 100MB dataset and I'm using the default parameter settings (which currently print 150K parameters). My data size is significantly larger (100 mil >> 0.15 mil), so I expect to heavily underfit. I am thinking I can comfortably afford to make `lstm_size` larger.\n",
    "> - I have a 10MB dataset and running a 10 million parameter model. I'm slightly nervous and I'm carefully monitoring my validation loss. If it's larger than my training loss then I may want to try to increase dropout a bit and see if that helps the validation loss.\n",
    "\n",
    "> ### Best models strategy\n",
    "\n",
    ">The winning strategy to obtaining very good models (if you have the compute time) is to always err on making the network larger (as large as you're willing to wait for it to compute) and then try different dropout values (between 0,1). Whatever model has the best validation performance (the loss, written in the checkpoint filename, low is good) is the one you should use in the end.\n",
    "\n",
    ">It is very common in deep learning to run many different models with many different hyperparameter settings, and in the end take whatever checkpoint gave the best validation performance.\n",
    "\n",
    ">By the way, the size of your training and validation splits are also parameters. Make sure you have a decent amount of data in your validation set or otherwise the validation performance will be noisy and not very informative."
   ]
  },
  {
   "cell_type": "code",
   "execution_count": 25,
   "metadata": {
    "collapsed": true
   },
   "outputs": [],
   "source": [
    "batch_size = 10         # Sequences per batch\n",
    "num_steps = 50          # Number of sequence steps per batch\n",
    "lstm_size = 128         # Size of hidden layers in LSTMs\n",
    "num_layers = 2          # Number of LSTM layers\n",
    "learning_rate = 0.01    # Learning rate\n",
    "keep_prob = 0.5         # Dropout keep probability"
   ]
  },
  {
   "cell_type": "markdown",
   "metadata": {},
   "source": [
    "## Time for training\n",
    "\n",
    "This is typical training code, passing inputs and targets into the network, then running the optimizer. Here we also get back the final LSTM state for the mini-batch. Then, we pass that state back into the network so the next batch can continue the state from the previous batch. And every so often (set by `save_every_n`) I save a checkpoint.\n",
    "\n",
    "Here I'm saving checkpoints with the format\n",
    "\n",
    "`i{iteration number}_l{# hidden layer units}.ckpt`\n",
    "\n",
    "> **Exercise:** Set the hyperparameters above to train the network. Watch the training loss, it should be consistently dropping. Also, I highly advise running this on a GPU."
   ]
  },
  {
   "cell_type": "code",
   "execution_count": 26,
   "metadata": {
    "scrolled": true
   },
   "outputs": [
    {
     "name": "stdout",
     "output_type": "stream",
     "text": [
      "Epoch: 1/20...  Training Step: 1...  Training loss: 4.4193...  0.1672 sec/batch\n",
      "Epoch: 1/20...  Training Step: 2...  Training loss: 4.3061...  0.1344 sec/batch\n",
      "Epoch: 1/20...  Training Step: 3...  Training loss: 3.5692...  0.1259 sec/batch\n",
      "Epoch: 1/20...  Training Step: 4...  Training loss: 3.3582...  0.1486 sec/batch\n",
      "Epoch: 1/20...  Training Step: 5...  Training loss: 3.3164...  0.1454 sec/batch\n",
      "Epoch: 1/20...  Training Step: 6...  Training loss: 3.3690...  0.1200 sec/batch\n",
      "Epoch: 1/20...  Training Step: 7...  Training loss: 3.2175...  0.1276 sec/batch\n",
      "Epoch: 1/20...  Training Step: 8...  Training loss: 3.2274...  0.1092 sec/batch\n",
      "Epoch: 1/20...  Training Step: 9...  Training loss: 3.2687...  0.1343 sec/batch\n",
      "Epoch: 1/20...  Training Step: 10...  Training loss: 3.2185...  0.1156 sec/batch\n",
      "Epoch: 1/20...  Training Step: 11...  Training loss: 3.2807...  0.1032 sec/batch\n",
      "Epoch: 1/20...  Training Step: 12...  Training loss: 3.1470...  0.1417 sec/batch\n",
      "Epoch: 1/20...  Training Step: 13...  Training loss: 3.1040...  0.1315 sec/batch\n",
      "Epoch: 1/20...  Training Step: 14...  Training loss: 3.1972...  0.1275 sec/batch\n",
      "Epoch: 1/20...  Training Step: 15...  Training loss: 3.0957...  0.1199 sec/batch\n",
      "Epoch: 1/20...  Training Step: 16...  Training loss: 3.1729...  0.1343 sec/batch\n",
      "Epoch: 1/20...  Training Step: 17...  Training loss: 3.1700...  0.1423 sec/batch\n",
      "Epoch: 1/20...  Training Step: 18...  Training loss: 3.2423...  0.1374 sec/batch\n",
      "Epoch: 1/20...  Training Step: 19...  Training loss: 3.2213...  0.1241 sec/batch\n",
      "Epoch: 1/20...  Training Step: 20...  Training loss: 3.1486...  0.1162 sec/batch\n",
      "Epoch: 1/20...  Training Step: 21...  Training loss: 3.2303...  0.1342 sec/batch\n",
      "Epoch: 1/20...  Training Step: 22...  Training loss: 3.1894...  0.1236 sec/batch\n",
      "Epoch: 1/20...  Training Step: 23...  Training loss: 3.1749...  0.1368 sec/batch\n",
      "Epoch: 1/20...  Training Step: 24...  Training loss: 3.1698...  0.1325 sec/batch\n",
      "Epoch: 1/20...  Training Step: 25...  Training loss: 4.3608...  0.1238 sec/batch\n",
      "Epoch: 1/20...  Training Step: 26...  Training loss: 4.4876...  0.1115 sec/batch\n",
      "Epoch: 1/20...  Training Step: 27...  Training loss: 3.0754...  0.1244 sec/batch\n",
      "Epoch: 1/20...  Training Step: 28...  Training loss: 3.1771...  0.1639 sec/batch\n",
      "Epoch: 1/20...  Training Step: 29...  Training loss: 3.1360...  0.1090 sec/batch\n",
      "Epoch: 1/20...  Training Step: 30...  Training loss: 3.1665...  0.1045 sec/batch\n",
      "Epoch: 1/20...  Training Step: 31...  Training loss: 3.1543...  0.1143 sec/batch\n",
      "Epoch: 1/20...  Training Step: 32...  Training loss: 3.1934...  0.1313 sec/batch\n",
      "Epoch: 1/20...  Training Step: 33...  Training loss: 3.1831...  0.1224 sec/batch\n",
      "Epoch: 1/20...  Training Step: 34...  Training loss: 3.1968...  0.1172 sec/batch\n",
      "Epoch: 1/20...  Training Step: 35...  Training loss: 3.1100...  0.1335 sec/batch\n",
      "Epoch: 1/20...  Training Step: 36...  Training loss: 3.2168...  0.1257 sec/batch\n",
      "Epoch: 1/20...  Training Step: 37...  Training loss: 3.2182...  0.1395 sec/batch\n",
      "Epoch: 1/20...  Training Step: 38...  Training loss: 3.1856...  0.1137 sec/batch\n",
      "Epoch: 1/20...  Training Step: 39...  Training loss: 3.0806...  0.1344 sec/batch\n",
      "Epoch: 1/20...  Training Step: 40...  Training loss: 3.1197...  0.1345 sec/batch\n",
      "Epoch: 1/20...  Training Step: 41...  Training loss: 3.1121...  0.1282 sec/batch\n",
      "Epoch: 1/20...  Training Step: 42...  Training loss: 3.2521...  0.1385 sec/batch\n",
      "Epoch: 1/20...  Training Step: 43...  Training loss: 3.1101...  0.1357 sec/batch\n",
      "Epoch: 1/20...  Training Step: 44...  Training loss: 3.1706...  0.1394 sec/batch\n",
      "Epoch: 1/20...  Training Step: 45...  Training loss: 3.1058...  0.1459 sec/batch\n",
      "Epoch: 1/20...  Training Step: 46...  Training loss: 3.1824...  0.1188 sec/batch\n",
      "Epoch: 1/20...  Training Step: 47...  Training loss: 3.1559...  0.1470 sec/batch\n",
      "Epoch: 1/20...  Training Step: 48...  Training loss: 3.0897...  0.1273 sec/batch\n",
      "Epoch: 1/20...  Training Step: 49...  Training loss: 3.1261...  0.1380 sec/batch\n",
      "Epoch: 1/20...  Training Step: 50...  Training loss: 3.1519...  0.1032 sec/batch\n",
      "Epoch: 1/20...  Training Step: 51...  Training loss: 3.1219...  0.1275 sec/batch\n",
      "Epoch: 1/20...  Training Step: 52...  Training loss: 3.1140...  0.1523 sec/batch\n",
      "Epoch: 1/20...  Training Step: 53...  Training loss: 3.1505...  0.1942 sec/batch\n",
      "Epoch: 1/20...  Training Step: 54...  Training loss: 3.1137...  0.1232 sec/batch\n",
      "Epoch: 1/20...  Training Step: 55...  Training loss: 3.0664...  0.1565 sec/batch\n",
      "Epoch: 1/20...  Training Step: 56...  Training loss: 3.1015...  0.2217 sec/batch\n",
      "Epoch: 1/20...  Training Step: 57...  Training loss: 3.1238...  0.2299 sec/batch\n",
      "Epoch: 1/20...  Training Step: 58...  Training loss: 3.0985...  0.2086 sec/batch\n",
      "Epoch: 1/20...  Training Step: 59...  Training loss: 3.0560...  0.2208 sec/batch\n",
      "Epoch: 1/20...  Training Step: 60...  Training loss: 3.0501...  0.2115 sec/batch\n",
      "Epoch: 1/20...  Training Step: 61...  Training loss: 3.1462...  0.2053 sec/batch\n",
      "Epoch: 1/20...  Training Step: 62...  Training loss: 3.0945...  0.1769 sec/batch\n",
      "Epoch: 1/20...  Training Step: 63...  Training loss: 3.0415...  0.1218 sec/batch\n",
      "Epoch: 1/20...  Training Step: 64...  Training loss: 3.0830...  0.1824 sec/batch\n",
      "Epoch: 1/20...  Training Step: 65...  Training loss: 3.0579...  0.1335 sec/batch\n",
      "Epoch: 1/20...  Training Step: 66...  Training loss: 3.0780...  0.1476 sec/batch\n",
      "Epoch: 1/20...  Training Step: 67...  Training loss: 3.0477...  0.1518 sec/batch\n",
      "Epoch: 1/20...  Training Step: 68...  Training loss: 3.1231...  0.1593 sec/batch\n",
      "Epoch: 1/20...  Training Step: 69...  Training loss: 3.1742...  0.1661 sec/batch\n",
      "Epoch: 1/20...  Training Step: 70...  Training loss: 2.9962...  0.1975 sec/batch\n",
      "Epoch: 1/20...  Training Step: 71...  Training loss: 3.0586...  0.1159 sec/batch\n",
      "Epoch: 1/20...  Training Step: 72...  Training loss: 3.1006...  0.1715 sec/batch\n",
      "Epoch: 1/20...  Training Step: 73...  Training loss: 3.0410...  0.1492 sec/batch\n",
      "Epoch: 1/20...  Training Step: 74...  Training loss: 3.0944...  0.1226 sec/batch\n",
      "Epoch: 1/20...  Training Step: 75...  Training loss: 3.0815...  0.1806 sec/batch\n",
      "Epoch: 1/20...  Training Step: 76...  Training loss: 3.1411...  0.1455 sec/batch\n",
      "Epoch: 1/20...  Training Step: 77...  Training loss: 3.0597...  0.2026 sec/batch\n",
      "Epoch: 1/20...  Training Step: 78...  Training loss: 3.1023...  0.1854 sec/batch\n",
      "Epoch: 1/20...  Training Step: 79...  Training loss: 3.1083...  0.1179 sec/batch\n",
      "Epoch: 1/20...  Training Step: 80...  Training loss: 2.9717...  0.1742 sec/batch\n",
      "Epoch: 1/20...  Training Step: 81...  Training loss: 3.1451...  0.1681 sec/batch\n",
      "Epoch: 1/20...  Training Step: 82...  Training loss: 3.0987...  0.1345 sec/batch\n",
      "Epoch: 1/20...  Training Step: 83...  Training loss: 3.0798...  0.1450 sec/batch\n",
      "Epoch: 1/20...  Training Step: 84...  Training loss: 3.0021...  0.1644 sec/batch\n",
      "Epoch: 1/20...  Training Step: 85...  Training loss: 3.0370...  0.1644 sec/batch\n",
      "Epoch: 1/20...  Training Step: 86...  Training loss: 3.0143...  0.1391 sec/batch\n",
      "Epoch: 1/20...  Training Step: 87...  Training loss: 2.9894...  0.1473 sec/batch\n",
      "Epoch: 1/20...  Training Step: 88...  Training loss: 2.9517...  0.1431 sec/batch\n",
      "Epoch: 1/20...  Training Step: 89...  Training loss: 2.9487...  0.1663 sec/batch\n",
      "Epoch: 1/20...  Training Step: 90...  Training loss: 3.0272...  0.1292 sec/batch\n",
      "Epoch: 1/20...  Training Step: 91...  Training loss: 3.0091...  0.1487 sec/batch\n",
      "Epoch: 1/20...  Training Step: 92...  Training loss: 3.0710...  0.1460 sec/batch\n",
      "Epoch: 1/20...  Training Step: 93...  Training loss: 3.0097...  0.1415 sec/batch\n",
      "Epoch: 1/20...  Training Step: 94...  Training loss: 3.1057...  0.1367 sec/batch\n",
      "Epoch: 1/20...  Training Step: 95...  Training loss: 3.0386...  0.1680 sec/batch\n",
      "Epoch: 1/20...  Training Step: 96...  Training loss: 2.9593...  0.1568 sec/batch\n",
      "Epoch: 1/20...  Training Step: 97...  Training loss: 3.0517...  0.1447 sec/batch\n",
      "Epoch: 1/20...  Training Step: 98...  Training loss: 2.9938...  0.1244 sec/batch\n",
      "Epoch: 1/20...  Training Step: 99...  Training loss: 2.9644...  0.1088 sec/batch\n",
      "Epoch: 1/20...  Training Step: 100...  Training loss: 2.9980...  0.1839 sec/batch\n",
      "Epoch: 1/20...  Training Step: 101...  Training loss: 3.0279...  0.1934 sec/batch\n",
      "Epoch: 1/20...  Training Step: 102...  Training loss: 2.8859...  0.1834 sec/batch\n"
     ]
    },
    {
     "name": "stdout",
     "output_type": "stream",
     "text": [
      "Epoch: 1/20...  Training Step: 103...  Training loss: 2.9810...  0.1605 sec/batch\n",
      "Epoch: 1/20...  Training Step: 104...  Training loss: 2.8388...  0.1307 sec/batch\n",
      "Epoch: 1/20...  Training Step: 105...  Training loss: 3.0045...  0.2265 sec/batch\n",
      "Epoch: 1/20...  Training Step: 106...  Training loss: 3.1300...  0.1261 sec/batch\n",
      "Epoch: 1/20...  Training Step: 107...  Training loss: 2.9641...  0.1960 sec/batch\n",
      "Epoch: 1/20...  Training Step: 108...  Training loss: 2.9852...  0.1659 sec/batch\n",
      "Epoch: 1/20...  Training Step: 109...  Training loss: 2.9187...  0.2444 sec/batch\n",
      "Epoch: 1/20...  Training Step: 110...  Training loss: 3.0627...  0.1339 sec/batch\n",
      "Epoch: 1/20...  Training Step: 111...  Training loss: 2.9063...  0.1148 sec/batch\n",
      "Epoch: 1/20...  Training Step: 112...  Training loss: 2.9742...  0.1142 sec/batch\n",
      "Epoch: 1/20...  Training Step: 113...  Training loss: 2.9297...  0.1220 sec/batch\n",
      "Epoch: 1/20...  Training Step: 114...  Training loss: 2.8873...  0.2183 sec/batch\n",
      "Epoch: 1/20...  Training Step: 115...  Training loss: 3.0030...  0.2070 sec/batch\n",
      "Epoch: 1/20...  Training Step: 116...  Training loss: 2.9625...  0.1847 sec/batch\n",
      "Epoch: 1/20...  Training Step: 117...  Training loss: 2.9099...  0.2001 sec/batch\n",
      "Epoch: 1/20...  Training Step: 118...  Training loss: 2.8118...  0.1647 sec/batch\n",
      "Epoch: 1/20...  Training Step: 119...  Training loss: 2.9353...  0.1206 sec/batch\n",
      "Epoch: 1/20...  Training Step: 120...  Training loss: 2.8543...  0.1238 sec/batch\n",
      "Epoch: 1/20...  Training Step: 121...  Training loss: 2.8312...  0.1143 sec/batch\n",
      "Epoch: 1/20...  Training Step: 122...  Training loss: 2.9040...  0.1270 sec/batch\n",
      "Epoch: 1/20...  Training Step: 123...  Training loss: 2.9322...  0.1255 sec/batch\n",
      "Epoch: 1/20...  Training Step: 124...  Training loss: 2.8406...  0.1107 sec/batch\n",
      "Epoch: 1/20...  Training Step: 125...  Training loss: 2.8764...  0.1164 sec/batch\n",
      "Epoch: 1/20...  Training Step: 126...  Training loss: 2.8303...  0.1277 sec/batch\n",
      "Epoch: 1/20...  Training Step: 127...  Training loss: 2.7794...  0.1246 sec/batch\n",
      "Epoch: 1/20...  Training Step: 128...  Training loss: 2.8518...  0.1620 sec/batch\n",
      "Epoch: 1/20...  Training Step: 129...  Training loss: 2.7831...  0.1290 sec/batch\n",
      "Epoch: 1/20...  Training Step: 130...  Training loss: 2.7493...  0.1284 sec/batch\n",
      "Epoch: 1/20...  Training Step: 131...  Training loss: 2.7364...  0.1306 sec/batch\n",
      "Epoch: 1/20...  Training Step: 132...  Training loss: 2.8839...  0.1246 sec/batch\n",
      "Epoch: 1/20...  Training Step: 133...  Training loss: 2.8099...  0.1284 sec/batch\n",
      "Epoch: 1/20...  Training Step: 134...  Training loss: 2.7953...  0.1141 sec/batch\n",
      "Epoch: 1/20...  Training Step: 135...  Training loss: 2.8634...  0.1231 sec/batch\n",
      "Epoch: 1/20...  Training Step: 136...  Training loss: 2.6983...  0.1313 sec/batch\n",
      "Epoch: 1/20...  Training Step: 137...  Training loss: 2.8599...  0.1141 sec/batch\n",
      "Epoch: 1/20...  Training Step: 138...  Training loss: 2.8112...  0.1553 sec/batch\n",
      "Epoch: 1/20...  Training Step: 139...  Training loss: 2.8138...  0.1602 sec/batch\n",
      "Epoch: 1/20...  Training Step: 140...  Training loss: 2.8520...  0.2091 sec/batch\n",
      "Epoch: 1/20...  Training Step: 141...  Training loss: 2.7331...  0.1587 sec/batch\n",
      "Epoch: 1/20...  Training Step: 142...  Training loss: 2.7922...  0.1439 sec/batch\n",
      "Epoch: 1/20...  Training Step: 143...  Training loss: 2.8389...  0.1248 sec/batch\n",
      "Epoch: 1/20...  Training Step: 144...  Training loss: 2.7884...  0.1128 sec/batch\n",
      "Epoch: 1/20...  Training Step: 145...  Training loss: 2.7101...  0.1386 sec/batch\n",
      "Epoch: 1/20...  Training Step: 146...  Training loss: 2.6885...  0.1264 sec/batch\n",
      "Epoch: 1/20...  Training Step: 147...  Training loss: 2.7616...  0.1515 sec/batch\n",
      "Epoch: 1/20...  Training Step: 148...  Training loss: 2.7547...  0.1814 sec/batch\n",
      "Epoch: 1/20...  Training Step: 149...  Training loss: 2.7226...  0.1577 sec/batch\n",
      "Epoch: 1/20...  Training Step: 150...  Training loss: 2.6919...  0.1367 sec/batch\n",
      "Epoch: 1/20...  Training Step: 151...  Training loss: 2.7308...  0.1733 sec/batch\n",
      "Epoch: 1/20...  Training Step: 152...  Training loss: 2.7120...  0.1393 sec/batch\n",
      "Epoch: 1/20...  Training Step: 153...  Training loss: 2.7037...  0.1128 sec/batch\n",
      "Epoch: 1/20...  Training Step: 154...  Training loss: 2.6739...  0.1346 sec/batch\n",
      "Epoch: 1/20...  Training Step: 155...  Training loss: 2.7801...  0.1348 sec/batch\n",
      "Epoch: 1/20...  Training Step: 156...  Training loss: 2.8033...  0.1582 sec/batch\n",
      "Epoch: 1/20...  Training Step: 157...  Training loss: 2.6032...  0.1396 sec/batch\n",
      "Epoch: 1/20...  Training Step: 158...  Training loss: 2.7055...  0.1398 sec/batch\n",
      "Epoch: 1/20...  Training Step: 159...  Training loss: 2.8767...  0.1690 sec/batch\n",
      "Epoch: 1/20...  Training Step: 160...  Training loss: 2.7263...  0.1369 sec/batch\n",
      "Epoch: 1/20...  Training Step: 161...  Training loss: 2.6507...  0.1669 sec/batch\n",
      "Epoch: 1/20...  Training Step: 162...  Training loss: 2.7286...  0.1098 sec/batch\n",
      "Epoch: 1/20...  Training Step: 163...  Training loss: 2.5848...  0.1311 sec/batch\n",
      "Epoch: 1/20...  Training Step: 164...  Training loss: 2.6343...  0.1023 sec/batch\n",
      "Epoch: 1/20...  Training Step: 165...  Training loss: 2.7132...  0.1021 sec/batch\n",
      "Epoch: 1/20...  Training Step: 166...  Training loss: 2.5634...  0.1219 sec/batch\n",
      "Epoch: 1/20...  Training Step: 167...  Training loss: 2.6593...  0.1250 sec/batch\n",
      "Epoch: 1/20...  Training Step: 168...  Training loss: 2.7254...  0.1312 sec/batch\n",
      "Epoch: 1/20...  Training Step: 169...  Training loss: 2.8119...  0.1892 sec/batch\n",
      "Epoch: 1/20...  Training Step: 170...  Training loss: 2.6347...  0.2163 sec/batch\n",
      "Epoch: 1/20...  Training Step: 171...  Training loss: 2.6436...  0.1089 sec/batch\n",
      "Epoch: 1/20...  Training Step: 172...  Training loss: 2.5998...  0.1412 sec/batch\n",
      "Epoch: 1/20...  Training Step: 173...  Training loss: 2.6190...  0.1130 sec/batch\n",
      "Epoch: 1/20...  Training Step: 174...  Training loss: 2.6938...  0.1071 sec/batch\n",
      "Epoch: 1/20...  Training Step: 175...  Training loss: 2.6904...  0.1300 sec/batch\n",
      "Epoch: 1/20...  Training Step: 176...  Training loss: 2.5415...  0.1270 sec/batch\n",
      "Epoch: 1/20...  Training Step: 177...  Training loss: 2.5880...  0.0971 sec/batch\n",
      "Epoch: 1/20...  Training Step: 178...  Training loss: 2.6353...  0.1951 sec/batch\n",
      "Epoch: 1/20...  Training Step: 179...  Training loss: 2.7082...  0.1423 sec/batch\n",
      "Epoch: 1/20...  Training Step: 180...  Training loss: 2.5027...  0.1362 sec/batch\n",
      "Epoch: 1/20...  Training Step: 181...  Training loss: 2.4701...  0.1273 sec/batch\n",
      "Epoch: 1/20...  Training Step: 182...  Training loss: 2.5832...  0.1515 sec/batch\n",
      "Epoch: 1/20...  Training Step: 183...  Training loss: 2.6270...  0.1495 sec/batch\n"
     ]
    },
    {
     "ename": "KeyboardInterrupt",
     "evalue": "",
     "output_type": "error",
     "traceback": [
      "\u001b[0;31m---------------------------------------------------------------------------\u001b[0m",
      "\u001b[0;31mKeyboardInterrupt\u001b[0m                         Traceback (most recent call last)",
      "\u001b[0;32m<ipython-input-26-497587d9b219>\u001b[0m in \u001b[0;36m<module>\u001b[0;34m()\u001b[0m\n\u001b[1;32m     28\u001b[0m                                                  \u001b[0mmodel\u001b[0m\u001b[0;34m.\u001b[0m\u001b[0mfinal_state\u001b[0m\u001b[0;34m,\u001b[0m\u001b[0;34m\u001b[0m\u001b[0m\n\u001b[1;32m     29\u001b[0m                                                  model.optimizer], \n\u001b[0;32m---> 30\u001b[0;31m                                                  feed_dict=feed)\n\u001b[0m\u001b[1;32m     31\u001b[0m \u001b[0;34m\u001b[0m\u001b[0m\n\u001b[1;32m     32\u001b[0m             \u001b[0mend\u001b[0m \u001b[0;34m=\u001b[0m \u001b[0mtime\u001b[0m\u001b[0;34m.\u001b[0m\u001b[0mtime\u001b[0m\u001b[0;34m(\u001b[0m\u001b[0;34m)\u001b[0m\u001b[0;34m\u001b[0m\u001b[0m\n",
      "\u001b[0;32m/anaconda/lib/python3.6/site-packages/tensorflow/python/client/session.py\u001b[0m in \u001b[0;36mrun\u001b[0;34m(self, fetches, feed_dict, options, run_metadata)\u001b[0m\n\u001b[1;32m    765\u001b[0m     \u001b[0;32mtry\u001b[0m\u001b[0;34m:\u001b[0m\u001b[0;34m\u001b[0m\u001b[0m\n\u001b[1;32m    766\u001b[0m       result = self._run(None, fetches, feed_dict, options_ptr,\n\u001b[0;32m--> 767\u001b[0;31m                          run_metadata_ptr)\n\u001b[0m\u001b[1;32m    768\u001b[0m       \u001b[0;32mif\u001b[0m \u001b[0mrun_metadata\u001b[0m\u001b[0;34m:\u001b[0m\u001b[0;34m\u001b[0m\u001b[0m\n\u001b[1;32m    769\u001b[0m         \u001b[0mproto_data\u001b[0m \u001b[0;34m=\u001b[0m \u001b[0mtf_session\u001b[0m\u001b[0;34m.\u001b[0m\u001b[0mTF_GetBuffer\u001b[0m\u001b[0;34m(\u001b[0m\u001b[0mrun_metadata_ptr\u001b[0m\u001b[0;34m)\u001b[0m\u001b[0;34m\u001b[0m\u001b[0m\n",
      "\u001b[0;32m/anaconda/lib/python3.6/site-packages/tensorflow/python/client/session.py\u001b[0m in \u001b[0;36m_run\u001b[0;34m(self, handle, fetches, feed_dict, options, run_metadata)\u001b[0m\n\u001b[1;32m    963\u001b[0m     \u001b[0;32mif\u001b[0m \u001b[0mfinal_fetches\u001b[0m \u001b[0;32mor\u001b[0m \u001b[0mfinal_targets\u001b[0m\u001b[0;34m:\u001b[0m\u001b[0;34m\u001b[0m\u001b[0m\n\u001b[1;32m    964\u001b[0m       results = self._do_run(handle, final_targets, final_fetches,\n\u001b[0;32m--> 965\u001b[0;31m                              feed_dict_string, options, run_metadata)\n\u001b[0m\u001b[1;32m    966\u001b[0m     \u001b[0;32melse\u001b[0m\u001b[0;34m:\u001b[0m\u001b[0;34m\u001b[0m\u001b[0m\n\u001b[1;32m    967\u001b[0m       \u001b[0mresults\u001b[0m \u001b[0;34m=\u001b[0m \u001b[0;34m[\u001b[0m\u001b[0;34m]\u001b[0m\u001b[0;34m\u001b[0m\u001b[0m\n",
      "\u001b[0;32m/anaconda/lib/python3.6/site-packages/tensorflow/python/client/session.py\u001b[0m in \u001b[0;36m_do_run\u001b[0;34m(self, handle, target_list, fetch_list, feed_dict, options, run_metadata)\u001b[0m\n\u001b[1;32m   1013\u001b[0m     \u001b[0;32mif\u001b[0m \u001b[0mhandle\u001b[0m \u001b[0;32mis\u001b[0m \u001b[0;32mNone\u001b[0m\u001b[0;34m:\u001b[0m\u001b[0;34m\u001b[0m\u001b[0m\n\u001b[1;32m   1014\u001b[0m       return self._do_call(_run_fn, self._session, feed_dict, fetch_list,\n\u001b[0;32m-> 1015\u001b[0;31m                            target_list, options, run_metadata)\n\u001b[0m\u001b[1;32m   1016\u001b[0m     \u001b[0;32melse\u001b[0m\u001b[0;34m:\u001b[0m\u001b[0;34m\u001b[0m\u001b[0m\n\u001b[1;32m   1017\u001b[0m       return self._do_call(_prun_fn, self._session, handle, feed_dict,\n",
      "\u001b[0;32m/anaconda/lib/python3.6/site-packages/tensorflow/python/client/session.py\u001b[0m in \u001b[0;36m_do_call\u001b[0;34m(self, fn, *args)\u001b[0m\n\u001b[1;32m   1020\u001b[0m   \u001b[0;32mdef\u001b[0m \u001b[0m_do_call\u001b[0m\u001b[0;34m(\u001b[0m\u001b[0mself\u001b[0m\u001b[0;34m,\u001b[0m \u001b[0mfn\u001b[0m\u001b[0;34m,\u001b[0m \u001b[0;34m*\u001b[0m\u001b[0margs\u001b[0m\u001b[0;34m)\u001b[0m\u001b[0;34m:\u001b[0m\u001b[0;34m\u001b[0m\u001b[0m\n\u001b[1;32m   1021\u001b[0m     \u001b[0;32mtry\u001b[0m\u001b[0;34m:\u001b[0m\u001b[0;34m\u001b[0m\u001b[0m\n\u001b[0;32m-> 1022\u001b[0;31m       \u001b[0;32mreturn\u001b[0m \u001b[0mfn\u001b[0m\u001b[0;34m(\u001b[0m\u001b[0;34m*\u001b[0m\u001b[0margs\u001b[0m\u001b[0;34m)\u001b[0m\u001b[0;34m\u001b[0m\u001b[0m\n\u001b[0m\u001b[1;32m   1023\u001b[0m     \u001b[0;32mexcept\u001b[0m \u001b[0merrors\u001b[0m\u001b[0;34m.\u001b[0m\u001b[0mOpError\u001b[0m \u001b[0;32mas\u001b[0m \u001b[0me\u001b[0m\u001b[0;34m:\u001b[0m\u001b[0;34m\u001b[0m\u001b[0m\n\u001b[1;32m   1024\u001b[0m       \u001b[0mmessage\u001b[0m \u001b[0;34m=\u001b[0m \u001b[0mcompat\u001b[0m\u001b[0;34m.\u001b[0m\u001b[0mas_text\u001b[0m\u001b[0;34m(\u001b[0m\u001b[0me\u001b[0m\u001b[0;34m.\u001b[0m\u001b[0mmessage\u001b[0m\u001b[0;34m)\u001b[0m\u001b[0;34m\u001b[0m\u001b[0m\n",
      "\u001b[0;32m/anaconda/lib/python3.6/site-packages/tensorflow/python/client/session.py\u001b[0m in \u001b[0;36m_run_fn\u001b[0;34m(session, feed_dict, fetch_list, target_list, options, run_metadata)\u001b[0m\n\u001b[1;32m   1002\u001b[0m         return tf_session.TF_Run(session, options,\n\u001b[1;32m   1003\u001b[0m                                  \u001b[0mfeed_dict\u001b[0m\u001b[0;34m,\u001b[0m \u001b[0mfetch_list\u001b[0m\u001b[0;34m,\u001b[0m \u001b[0mtarget_list\u001b[0m\u001b[0;34m,\u001b[0m\u001b[0;34m\u001b[0m\u001b[0m\n\u001b[0;32m-> 1004\u001b[0;31m                                  status, run_metadata)\n\u001b[0m\u001b[1;32m   1005\u001b[0m \u001b[0;34m\u001b[0m\u001b[0m\n\u001b[1;32m   1006\u001b[0m     \u001b[0;32mdef\u001b[0m \u001b[0m_prun_fn\u001b[0m\u001b[0;34m(\u001b[0m\u001b[0msession\u001b[0m\u001b[0;34m,\u001b[0m \u001b[0mhandle\u001b[0m\u001b[0;34m,\u001b[0m \u001b[0mfeed_dict\u001b[0m\u001b[0;34m,\u001b[0m \u001b[0mfetch_list\u001b[0m\u001b[0;34m)\u001b[0m\u001b[0;34m:\u001b[0m\u001b[0;34m\u001b[0m\u001b[0m\n",
      "\u001b[0;31mKeyboardInterrupt\u001b[0m: "
     ]
    }
   ],
   "source": [
    "epochs = 20\n",
    "# Save every N iterations\n",
    "save_every_n = 200\n",
    "\n",
    "model = CharRNN(len(vocab), batch_size=batch_size, num_steps=num_steps,\n",
    "                lstm_size=lstm_size, num_layers=num_layers, \n",
    "                learning_rate=learning_rate)\n",
    "\n",
    "saver = tf.train.Saver(max_to_keep=100)\n",
    "with tf.Session() as sess:\n",
    "    sess.run(tf.global_variables_initializer())\n",
    "    \n",
    "    # Use the line below to load a checkpoint and resume training\n",
    "    #saver.restore(sess, 'checkpoints/______.ckpt')\n",
    "    counter = 0\n",
    "    for e in range(epochs):\n",
    "        # Train network\n",
    "        new_state = sess.run(model.initial_state)\n",
    "        loss = 0\n",
    "        for x, y in get_batches(encoded, batch_size, num_steps):\n",
    "            counter += 1\n",
    "            start = time.time()\n",
    "            feed = {model.inputs: x,\n",
    "                    model.targets: y,\n",
    "                    model.keep_prob: keep_prob,\n",
    "                    model.initial_state: new_state}\n",
    "            batch_loss, new_state, _ = sess.run([model.loss, \n",
    "                                                 model.final_state, \n",
    "                                                 model.optimizer], \n",
    "                                                 feed_dict=feed)\n",
    "            \n",
    "            end = time.time()\n",
    "            print('Epoch: {}/{}... '.format(e+1, epochs),\n",
    "                  'Training Step: {}... '.format(counter),\n",
    "                  'Training loss: {:.4f}... '.format(batch_loss),\n",
    "                  '{:.4f} sec/batch'.format((end-start)))\n",
    "        \n",
    "            if (counter % save_every_n == 0):\n",
    "                saver.save(sess, \"checkpoints/i{}_l{}.ckpt\".format(counter, lstm_size))\n",
    "    \n",
    "    saver.save(sess, \"checkpoints/i{}_l{}.ckpt\".format(counter, lstm_size))"
   ]
  },
  {
   "cell_type": "markdown",
   "metadata": {},
   "source": [
    "#### Saved checkpoints\n",
    "\n",
    "Read up on saving and loading checkpoints here: https://www.tensorflow.org/programmers_guide/variables"
   ]
  },
  {
   "cell_type": "code",
   "execution_count": null,
   "metadata": {
    "collapsed": true
   },
   "outputs": [],
   "source": [
    "tf.train.get_checkpoint_state('checkpoints')"
   ]
  },
  {
   "cell_type": "markdown",
   "metadata": {},
   "source": [
    "## Sampling\n",
    "\n",
    "Now that the network is trained, we'll can use it to generate new text. The idea is that we pass in a character, then the network will predict the next character. We can use the new one, to predict the next one. And we keep doing this to generate all new text. I also included some functionality to prime the network with some text by passing in a string and building up a state from that.\n",
    "\n",
    "The network gives us predictions for each character. To reduce noise and make things a little less random, I'm going to only choose a new character from the top N most likely characters.\n",
    "\n"
   ]
  },
  {
   "cell_type": "code",
   "execution_count": null,
   "metadata": {
    "collapsed": true
   },
   "outputs": [],
   "source": [
    "def pick_top_n(preds, vocab_size, top_n=5):\n",
    "    p = np.squeeze(preds)\n",
    "    p[np.argsort(p)[:-top_n]] = 0\n",
    "    p = p / np.sum(p)\n",
    "    c = np.random.choice(vocab_size, 1, p=p)[0]\n",
    "    return c"
   ]
  },
  {
   "cell_type": "code",
   "execution_count": null,
   "metadata": {
    "collapsed": true
   },
   "outputs": [],
   "source": [
    "def sample(checkpoint, n_samples, lstm_size, vocab_size, prime=\"The \"):\n",
    "    samples = [c for c in prime]\n",
    "    model = CharRNN(len(vocab), lstm_size=lstm_size, sampling=True)\n",
    "    saver = tf.train.Saver()\n",
    "    with tf.Session() as sess:\n",
    "        saver.restore(sess, checkpoint)\n",
    "        new_state = sess.run(model.initial_state)\n",
    "        for c in prime:\n",
    "            x = np.zeros((1, 1))\n",
    "            x[0,0] = vocab_to_int[c]\n",
    "            feed = {model.inputs: x,\n",
    "                    model.keep_prob: 1.,\n",
    "                    model.initial_state: new_state}\n",
    "            preds, new_state = sess.run([model.prediction, model.final_state], \n",
    "                                         feed_dict=feed)\n",
    "\n",
    "        c = pick_top_n(preds, len(vocab))\n",
    "        samples.append(int_to_vocab[c])\n",
    "\n",
    "        for i in range(n_samples):\n",
    "            x[0,0] = c\n",
    "            feed = {model.inputs: x,\n",
    "                    model.keep_prob: 1.,\n",
    "                    model.initial_state: new_state}\n",
    "            preds, new_state = sess.run([model.prediction, model.final_state], \n",
    "                                         feed_dict=feed)\n",
    "\n",
    "            c = pick_top_n(preds, len(vocab))\n",
    "            samples.append(int_to_vocab[c])\n",
    "        \n",
    "    return ''.join(samples)"
   ]
  },
  {
   "cell_type": "markdown",
   "metadata": {},
   "source": [
    "Here, pass in the path to a checkpoint and sample from the network."
   ]
  },
  {
   "cell_type": "code",
   "execution_count": null,
   "metadata": {
    "collapsed": true
   },
   "outputs": [],
   "source": [
    "tf.train.latest_checkpoint('checkpoints')"
   ]
  },
  {
   "cell_type": "code",
   "execution_count": null,
   "metadata": {
    "collapsed": true
   },
   "outputs": [],
   "source": [
    "checkpoint = tf.train.latest_checkpoint('checkpoints')\n",
    "samp = sample(checkpoint, 2000, lstm_size, len(vocab), prime=\"Far\")\n",
    "print(samp)"
   ]
  },
  {
   "cell_type": "code",
   "execution_count": null,
   "metadata": {
    "collapsed": true
   },
   "outputs": [],
   "source": [
    "checkpoint = 'checkpoints/i200_l512.ckpt'\n",
    "samp = sample(checkpoint, 1000, lstm_size, len(vocab), prime=\"Far\")\n",
    "print(samp)"
   ]
  },
  {
   "cell_type": "code",
   "execution_count": null,
   "metadata": {
    "collapsed": true
   },
   "outputs": [],
   "source": [
    "checkpoint = 'checkpoints/i600_l512.ckpt'\n",
    "samp = sample(checkpoint, 1000, lstm_size, len(vocab), prime=\"Far\")\n",
    "print(samp)"
   ]
  },
  {
   "cell_type": "code",
   "execution_count": null,
   "metadata": {
    "collapsed": true
   },
   "outputs": [],
   "source": [
    "checkpoint = 'checkpoints/i1200_l512.ckpt'\n",
    "samp = sample(checkpoint, 1000, lstm_size, len(vocab), prime=\"Far\")\n",
    "print(samp)"
   ]
  }
 ],
 "metadata": {
  "kernelspec": {
   "display_name": "Python 3",
   "language": "python",
   "name": "python3"
  },
  "language_info": {
   "codemirror_mode": {
    "name": "ipython",
    "version": 3
   },
   "file_extension": ".py",
   "mimetype": "text/x-python",
   "name": "python",
   "nbconvert_exporter": "python",
   "pygments_lexer": "ipython3",
   "version": "3.6.0"
  }
 },
 "nbformat": 4,
 "nbformat_minor": 2
}
